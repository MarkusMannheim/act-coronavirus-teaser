{
 "cells": [
  {
   "cell_type": "code",
   "execution_count": 18,
   "metadata": {},
   "outputs": [],
   "source": [
    "import pandas as pd\n",
    "data = pd.read_csv(\"actData.csv\")\n",
    "data[\"infected\"] = data[\"confirmed\"] - data[\"recovered\"] - data[\"deaths\"]\n",
    "new = []\n",
    "for index, row in data.iterrows():\n",
    "    if index == 0:\n",
    "        new.append(0)\n",
    "    else:\n",
    "        new.append(row[\"confirmed\"] - data.loc[index - 1][\"confirmed\"])\n",
    "data[\"new\"] = new\n",
    "data.to_csv(\"graph.csv\", index=False)"
   ]
  },
  {
   "cell_type": "code",
   "execution_count": null,
   "metadata": {},
   "outputs": [],
   "source": []
  }
 ],
 "metadata": {
  "kernelspec": {
   "display_name": "Python 3",
   "language": "python",
   "name": "python3"
  },
  "language_info": {
   "codemirror_mode": {
    "name": "ipython",
    "version": 3
   },
   "file_extension": ".py",
   "mimetype": "text/x-python",
   "name": "python",
   "nbconvert_exporter": "python",
   "pygments_lexer": "ipython3",
   "version": "3.8.2"
  }
 },
 "nbformat": 4,
 "nbformat_minor": 4
}
