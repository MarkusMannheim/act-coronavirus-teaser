{
 "cells": [
  {
   "cell_type": "code",
   "execution_count": 17,
   "metadata": {},
   "outputs": [
    {
     "name": "stdout",
     "output_type": "stream",
     "text": [
      "['CDwindow-3A0EB4069551AD50AEB5BA3F2E521D68', 'CDwindow-4BCD5EA3BD41D46BCF656F1B95D31520']\n",
      "Home - COVID-19\n",
      "Microsoft Power BI\n",
      "Microsoft Power BI\n"
     ]
    }
   ],
   "source": [
    "import pandas as pd\n",
    "import time\n",
    "from selenium import webdriver\n",
    "from selenium.webdriver.chrome.options import Options\n",
    "from selenium.webdriver.common.by import By\n",
    "from selenium.webdriver.common.keys import Keys\n",
    "from selenium.webdriver.support.ui import WebDriverWait\n",
    "from selenium.webdriver.support import expected_conditions as EC\n",
    "\n",
    "# read in existing data\n",
    "data = pd.read_csv(\"./actData.csv\", parse_dates=[\"date\"])\n",
    "data[\"date\"] = pd.to_datetime(data[\"date\"], format=\"%d/%m/%Y\")\n",
    "\n",
    "# use a headless browser (saves time)\n",
    "chrome_options = Options()\n",
    "# chrome_options.add_argument(\"--headless\")\n",
    "\n",
    "# set up the browser\n",
    "driver = webdriver.Chrome(options=chrome_options)\n",
    "\n",
    "# starting page\n",
    "driver.get(\"https://www.covid19.act.gov.au/\")\n",
    "\n",
    "# let page load\n",
    "dashboard_link = WebDriverWait(driver, 10).until(\n",
    "    EC.visibility_of_element_located((By.CSS_SELECTOR, \".current-status_container a\"))\n",
    ")\n",
    "dashboard_link.click()\n",
    "\n",
    "# dashboard opens\n",
    "print(driver.window_handles)\n",
    "print(driver.title)\n",
    "driver.switch_to.window(driver.window_handles[-1])\n",
    "print(driver.title)\n",
    "WebDriverWait(driver, 10).until(\n",
    "    EC.visibility_of_element_located((By.CSS_SELECTOR, \".visual-card svg\"))\n",
    ")\n",
    "print(driver.title)\n",
    "# cards = driver.find_elements_by_css_selector(\".visual-card svg\")"
   ]
  },
  {
   "cell_type": "code",
   "execution_count": null,
   "metadata": {},
   "outputs": [],
   "source": []
  }
 ],
 "metadata": {
  "kernelspec": {
   "display_name": "Python 3",
   "language": "python",
   "name": "python3"
  },
  "language_info": {
   "codemirror_mode": {
    "name": "ipython",
    "version": 3
   },
   "file_extension": ".py",
   "mimetype": "text/x-python",
   "name": "python",
   "nbconvert_exporter": "python",
   "pygments_lexer": "ipython3",
   "version": "3.8.5"
  }
 },
 "nbformat": 4,
 "nbformat_minor": 4
}
