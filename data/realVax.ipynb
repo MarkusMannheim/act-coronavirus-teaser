{
 "cells": [
  {
   "cell_type": "code",
   "execution_count": 14,
   "id": "843e9bf8-4d07-49a5-8218-3a69feeb7e71",
   "metadata": {},
   "outputs": [
    {
     "name": "stdout",
     "output_type": "stream",
     "text": [
      "checking existing data ...\n",
      "checking October 13, 2021 ...\r"
     ]
    }
   ],
   "source": [
    "import io, requests\n",
    "import pandas as pd, numpy as np, matplotlib.pyplot as plt, seaborn as sns\n",
    "from PyPDF2 import PdfFileReader\n",
    "sns.set(font_scale=1.5, style=\"whitegrid\")\n",
    "\n",
    "vaxData = pd.DataFrame(\n",
    "    index=[\"AUS\", \"ACT\", \"NSW\", \"NT\", \"QLD\", \"SA\", \"TAS\", \"VIC\", \"WA\"],\n",
    "    columns=[\"first\", \"second\"]\n",
    ")\n",
    "vaxData.index.name = \"jurisdiction\"\n",
    "\n",
    "# load dataset\n",
    "print(\"checking existing data ...\")\n",
    "data = pd.read_csv(\"./data.csv\", parse_dates=[\"date\"], index_col=\"date\")\n",
    "\n",
    "date = data.index[-1]\n",
    "print(f\"checking {date:%B %-d, %Y} ...\", end=\"\\r\")\n",
    "\n",
    "url = f\"https://www.health.gov.au/sites/default/files/documents/{date:%Y}/{date:%m}/covid-19-vaccine-rollout-update-{date:%-d-%B-%Y}.pdf\".lower()\n",
    "\n",
    "request = requests.get(url)\n",
    "file = io.BytesIO(request.content)\n",
    "reader = PdfFileReader(file)\n",
    "\n",
    "contents = reader.getPage(5).extractText().split(\"\\n\")\n",
    "\n",
    "for i in range(9):\n",
    "\n",
    "    try:            \n",
    "        first_16 = float(contents[contents.index(\"dose 1\") + i + 1].strip().replace(\",\", \"\"))\n",
    "        first_12 = float(contents[len(contents) - contents[::-1].index(\"dose 1\") + i].strip().replace(\",\", \"\"))\n",
    "        second_16 = float(contents[contents.index(\"dose 2\") + i + 1].strip().replace(\",\", \"\"))\n",
    "        second_12 = float(contents[len(contents) - contents[::-1].index(\"dose 2\") + i].strip().replace(\",\", \"\"))\n",
    "\n",
    "    except:\n",
    "        first_16 = float(contents[contents.index(\"-dose 1\") + i + 1].strip().replace(\",\", \"\"))\n",
    "        first_12 = float(contents[len(contents) - contents[::-1].index(\"-dose 1\") + i].strip().replace(\",\", \"\"))\n",
    "        second_16 = float(contents[contents.index(\"-dose 2\") + i + 1].strip().replace(\",\", \"\"))\n",
    "        second_12 = float(contents[len(contents) - contents[::-1].index(\"-dose 2\") + i].strip().replace(\",\", \"\"))\n",
    "\n",
    "    vaxData.iloc[i] = [first_16 + first_12, second_16 + second_12]\n",
    "\n",
    "vaxData[\"population\"] = [25704340, 431826, 8176368, 247023, 5206400, 1771703, 541965, 6648564, 2675797]\n",
    "vaxData[\"first_percent\"] = vaxData[\"first\"] / vaxData[\"population\"]\n",
    "vaxData[\"second_percent\"] = vaxData[\"second\"] / vaxData[\"population\"]\n",
    "vaxData.sort_values(\"second_percent\", ascending=True, inplace=True)\n",
    "\n",
    "vaxData.to_csv(\"vaxLatest.csv\")"
   ]
  },
  {
   "cell_type": "code",
   "execution_count": 7,
   "id": "bcc27dee-1098-4168-83d1-b5495a4f3497",
   "metadata": {},
   "outputs": [
    {
     "data": {
      "text/plain": [
       "'https://www.health.gov.au/sites/default/files/documents/2021/09/covid-19-vaccine-rollout-update-1-september-2021.pdf'"
      ]
     },
     "execution_count": 7,
     "metadata": {},
     "output_type": "execute_result"
    }
   ],
   "source": [
    "url"
   ]
  }
 ],
 "metadata": {
  "kernelspec": {
   "display_name": "Python 3 (ipykernel)",
   "language": "python",
   "name": "python3"
  },
  "language_info": {
   "codemirror_mode": {
    "name": "ipython",
    "version": 3
   },
   "file_extension": ".py",
   "mimetype": "text/x-python",
   "name": "python",
   "nbconvert_exporter": "python",
   "pygments_lexer": "ipython3",
   "version": "3.9.5"
  }
 },
 "nbformat": 4,
 "nbformat_minor": 5
}
