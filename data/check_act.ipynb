{
 "cells": [
  {
   "cell_type": "code",
   "execution_count": 1,
   "id": "73d67624-09e4-420a-8be7-cf96b114aa1f",
   "metadata": {},
   "outputs": [
    {
     "name": "stdout",
     "output_type": "stream",
     "text": [
      "checking ACT Health website ...\n",
      "new ACT data found:\n",
      "date         2021-08-11 00:00:00\n",
      "new                          0.0\n",
      "total                      124.0\n",
      "recovered                  121.0\n",
      "dead                         3.0\n",
      "first                        NaN\n",
      "second                       NaN\n",
      "Name: 518, dtype: object\n",
      "case_data.csv written\n",
      "data.csv written\n"
     ]
    }
   ],
   "source": [
    "# modules\n",
    "import pandas as pd\n",
    "import random\n",
    "from selenium import webdriver\n",
    "from selenium.webdriver.chrome.options import Options\n",
    "from selenium.webdriver.common.by import By\n",
    "from selenium.webdriver.support.ui import WebDriverWait\n",
    "from selenium.webdriver.support import expected_conditions as EC\n",
    "\n",
    "# use a headless browser (saves time)\n",
    "chrome_options = Options()\n",
    "chrome_options.add_argument(\"--headless\")\n",
    "chrome_options.add_argument(\"--start-maximized\")\n",
    "driver = webdriver.Chrome(options=chrome_options)\n",
    "\n",
    "# scrape ACT Health data\n",
    "print(\"checking ACT Health website ...\")\n",
    "driver.get(f\"https://www.covid19.act.gov.au/updates/act-covid-19-statistics?randomKey={random.randint(1000, 9999)}\")\n",
    "lastDate = WebDriverWait(driver, 5).until(\n",
    "    EC.presence_of_element_located((By.CSS_SELECTOR, \".spf-article-card--tabular-subtitle p\"))\n",
    ")\n",
    "lastDate = lastDate.get_attribute(\"innerText\").strip()\n",
    "lastDate = pd.to_datetime(lastDate[lastDate.index(\",\") + 2:], format=\"%d %b %Y\")\n",
    "\n",
    "activeCases = WebDriverWait(driver, 5).until(\n",
    "    EC.presence_of_element_located((By.CLASS_NAME, \"stat-card-number\"))\n",
    ")\n",
    "activeCases = float(activeCases.get_attribute(\"innerText\"))\n",
    "\n",
    "driver.close()\n",
    "driver.quit()\n",
    "   \n",
    "data = pd.read_csv(\"./case_data.csv\")\n",
    "data[\"date\"] = pd.to_datetime(data[\"date\"], format=\"%Y/%m/%d\")\n",
    "data.sort_values(\"date\", ascending=True, inplace=True)\n",
    "data.fillna(0, inplace=True)\n",
    "data[\"new\"] = data[\"new\"].astype(\"float\")\n",
    "data[\"total\"] = data[\"total\"].astype(\"float\")\n",
    "\n",
    "lastRow = len(data) - 1\n",
    "\n",
    "if lastDate > data.at[lastRow, \"date\"]:\n",
    "    print(\"new ACT data found:\")\n",
    "    data.loc[lastRow + 1] = [\n",
    "        lastDate,\n",
    "        activeCases - data.at[lastRow, \"new\"],\n",
    "        data.at[lastRow, \"total\"] + activeCases - data.at[lastRow, \"new\"],\n",
    "        data.at[lastRow, \"recovered\"] + data.at[lastRow, \"new\"] - activeCases,\n",
    "        data.at[lastRow, \"dead\"],\n",
    "        None,\n",
    "        None\n",
    "    ]\n",
    "    print(data.loc[lastRow + 1])\n",
    "    data.to_csv(\"./case_data.csv\", index=False)\n",
    "    print(\"case_data.csv written\")\n",
    "    data[\"one\"] = (data[\"first\"] - data[\"second\"]) / 344013\n",
    "    data[\"two\"] = data[\"second\"] / 344013\n",
    "    data = data[list(data.columns)[:5] + list(data.columns)[-2:]]\n",
    "    data.to_csv(\"./data.csv\", index=False)\n",
    "    print(\"data.csv written\")\n",
    "else:\n",
    "    print(\"no update found\")\n",
    "    print(f\"last date was {lastDate:%b %d, %Y}\")"
   ]
  }
 ],
 "metadata": {
  "kernelspec": {
   "display_name": "Python 3",
   "language": "python",
   "name": "python3"
  },
  "language_info": {
   "codemirror_mode": {
    "name": "ipython",
    "version": 3
   },
   "file_extension": ".py",
   "mimetype": "text/x-python",
   "name": "python",
   "nbconvert_exporter": "python",
   "pygments_lexer": "ipython3",
   "version": "3.9.0"
  }
 },
 "nbformat": 4,
 "nbformat_minor": 5
}
