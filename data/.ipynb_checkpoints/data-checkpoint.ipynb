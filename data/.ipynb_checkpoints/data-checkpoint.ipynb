{
 "cells": [
  {
   "cell_type": "code",
   "execution_count": 15,
   "id": "global-wheat",
   "metadata": {},
   "outputs": [
    {
     "name": "stdout",
     "output_type": "stream",
     "text": [
      "checking vaccine data for Tuesday, January 11 ...\n",
      "data unavailable for this date\n",
      "checking vaccine data for Monday, January 10 ...\n"
     ]
    },
    {
     "data": {
      "text/html": [
       "<div>\n",
       "<style scoped>\n",
       "    .dataframe tbody tr th:only-of-type {\n",
       "        vertical-align: middle;\n",
       "    }\n",
       "\n",
       "    .dataframe tbody tr th {\n",
       "        vertical-align: top;\n",
       "    }\n",
       "\n",
       "    .dataframe thead th {\n",
       "        text-align: right;\n",
       "    }\n",
       "</style>\n",
       "<table border=\"1\" class=\"dataframe\">\n",
       "  <thead>\n",
       "    <tr style=\"text-align: right;\">\n",
       "      <th></th>\n",
       "      <th>first</th>\n",
       "      <th>second</th>\n",
       "      <th>boosters</th>\n",
       "      <th>date</th>\n",
       "    </tr>\n",
       "  </thead>\n",
       "  <tbody>\n",
       "    <tr>\n",
       "      <th>0</th>\n",
       "      <td>367195.0</td>\n",
       "      <td>361923.0</td>\n",
       "      <td>79442.0</td>\n",
       "      <td>2022-01-09</td>\n",
       "    </tr>\n",
       "  </tbody>\n",
       "</table>\n",
       "</div>"
      ],
      "text/plain": [
       "      first    second  boosters       date\n",
       "0  367195.0  361923.0   79442.0 2022-01-09"
      ]
     },
     "execution_count": 15,
     "metadata": {},
     "output_type": "execute_result"
    }
   ],
   "source": [
    "import io, requests\n",
    "import pandas as pd, numpy as np\n",
    "from PyPDF2 import PdfFileReader\n",
    "\n",
    "def vaxScrape(date):\n",
    "    print(f\"checking vaccine data for {date:%A, %B %#d} ...\")\n",
    "    url = f\"https://www.health.gov.au/sites/default/files/documents/{date:%Y}/{date:%m}/covid-19-vaccine-rollout-update-{date:%#d-%B-%Y}.pdf\".lower()\n",
    "\n",
    "    try:\n",
    "        request = requests.get(url)\n",
    "        file = io.BytesIO(request.content)\n",
    "        reader = PdfFileReader(file)\n",
    "        contents = reader.getPage(6).extractText().split(\"\\n\")\n",
    "        \n",
    "        try:                \n",
    "            first_16 = float(contents[contents.index(\"dose 1\") + 2].strip().replace(\",\", \"\"))\n",
    "            second_16 = float(contents[contents.index(\"dose 2\") + 2].strip().replace(\",\", \"\"))        \n",
    "            first_12 = float(contents[len(contents) - contents[::-1].index(\"dose 1\") + 1].strip().replace(\",\", \"\"))\n",
    "            second_12 = float(contents[len(contents) - contents[::-1].index(\"dose 2\") + 1].strip().replace(\",\", \"\"))\n",
    "\n",
    "        except:\n",
    "            first_16 = float(contents[contents.index(\"-dose 1\") + 2].strip().replace(\",\", \"\"))\n",
    "            second_16 = float(contents[contents.index(\"-dose 2\") + 2].strip().replace(\",\", \"\"))\n",
    "            first_12 = float(contents[len(contents) - contents[::-1].index(\"-dose 1\") + 1].strip().replace(\",\", \"\"))\n",
    "            second_12 = float(contents[len(contents) - contents[::-1].index(\"-dose 2\") + 1].strip().replace(\",\", \"\"))\n",
    "\n",
    "        first = first_16 + first_12\n",
    "        second = second_16 + second_12\n",
    "        \n",
    "        contents = reader.getPage(2).extractText().split(\"\\n\")        \n",
    "        boosters = float(contents[contents.index(\"Number of doses administered as part of the Commonwealth aged and disability care rollout\") + 7].strip().replace(\",\", \"\"))\n",
    "                \n",
    "        vaxData.loc[0] = [first, second, boosters, date - pd.Timedelta(days=1)]        \n",
    "\n",
    "    except:\n",
    "        print(f\"data unavailable for this date\")\n",
    "        date = date - pd.Timedelta(days=1)\n",
    "        vaxScrape(date)\n",
    "\n",
    "vaxData = pd.DataFrame(\n",
    "    columns=[\"first\", \"second\", \"boosters\", \"date\"]\n",
    ")\n",
    "        \n",
    "today = pd.to_datetime(pd.Timestamp(\"now\").date())\n",
    "vaxScrape(today)\n",
    "\n",
    "vaxData"
   ]
  },
  {
   "cell_type": "code",
   "execution_count": null,
   "id": "sustainable-vitamin",
   "metadata": {},
   "outputs": [],
   "source": []
  }
 ],
 "metadata": {
  "kernelspec": {
   "display_name": "Python 3",
   "language": "python",
   "name": "python3"
  },
  "language_info": {
   "codemirror_mode": {
    "name": "ipython",
    "version": 3
   },
   "file_extension": ".py",
   "mimetype": "text/x-python",
   "name": "python",
   "nbconvert_exporter": "python",
   "pygments_lexer": "ipython3",
   "version": "3.9.2"
  }
 },
 "nbformat": 4,
 "nbformat_minor": 5
}
