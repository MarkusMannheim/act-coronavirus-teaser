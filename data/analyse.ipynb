{
 "cells": [
  {
   "cell_type": "code",
   "execution_count": 2,
   "id": "brazilian-baker",
   "metadata": {},
   "outputs": [],
   "source": [
    "import pandas as pd, numpy as np, seaborn as sns\n",
    "import matplotlib.pyplot as plt, matplotlib.dates as mdates, matplotlib.ticker as ticker\n",
    "sns.set(font_scale=1.5)\n",
    "\n",
    "data = pd.read_csv(\"./caseData.csv\", parse_dates=[\"date\"], index_col=\"date\")\n",
    "\n",
    "pcr_data = data.loc[[x for x in data.index if (x > pd.Timestamp(\"2022-02-20\")) & (x < pd.Timestamp(\"2022-02-28\"))]]\n",
    "pos = pcr_data.pcr.sum() / (13130 + pcr_data.pcr.sum())\n",
    "data.loc[[x for x in data.index if (x > pd.Timestamp(\"2022-02-21\")) & (x < pd.Timestamp(\"2022-03-01\"))], \"positivity_trend\"] = [pos] * 7\n",
    "\n",
    "pcr_data = data.loc[[x for x in data.index if (x > pd.Timestamp(\"2022-02-27\")) & (x < pd.Timestamp(\"2022-03-07\"))]]\n",
    "pos = pcr_data.pcr.sum() / (17675 + pcr_data.pcr.sum())\n",
    "data.loc[[x for x in data.index if (x > pd.Timestamp(\"2022-02-28\")) & (x < pd.Timestamp(\"2022-03-08\"))], \"positivity_trend\"] = [pos] * 7\n",
    "\n",
    "pcr_data = data.loc[[x for x in data.index if (x > pd.Timestamp(\"2022-03-06\")) & (x < pd.Timestamp(\"2022-03-14\"))]]\n",
    "pos = pcr_data.pcr.sum() / (13970 + pcr_data.pcr.sum())\n",
    "data.loc[[x for x in data.index if (x > pd.Timestamp(\"2022-03-07\")) & (x < pd.Timestamp(\"2022-03-15\"))], \"positivity_trend\"] = [pos] * 7\n",
    "\n",
    "pcr_data = data.loc[[x for x in data.index if (x > pd.Timestamp(\"2022-03-13\")) & (x < pd.Timestamp(\"2022-03-21\"))]]\n",
    "pos = pcr_data.pcr.sum() / (12431 + pcr_data.pcr.sum())\n",
    "data.loc[[x for x in data.index if (x > pd.Timestamp(\"2022-03-14\")) & (x < pd.Timestamp(\"2022-03-22\"))], \"positivity_trend\"] = [pos] * 7\n",
    "\n",
    "pcr_data = data.loc[[x for x in data.index if (x > pd.Timestamp(\"2022-03-20\")) & (x < pd.Timestamp(\"2022-03-28\"))]]\n",
    "pos = pcr_data.pcr.sum() / (27052 + pcr_data.pcr.sum())\n",
    "data.loc[[x for x in data.index if (x > pd.Timestamp(\"2022-03-21\")) & (x < pd.Timestamp(\"2022-03-29\"))], \"positivity_trend\"] = [pos] * 7\n",
    "\n",
    "pcr_data = data.loc[[x for x in data.index if (x > pd.Timestamp(\"2022-03-27\")) & (x < pd.Timestamp(\"2022-04-04\"))]]\n",
    "pos = pcr_data.pcr.sum() / (20014 + pcr_data.pcr.sum())\n",
    "data.loc[[x for x in data.index if (x > pd.Timestamp(\"2022-03-28\")) & (x < pd.Timestamp(\"2022-04-05\"))], \"positivity_trend\"] = [pos] * 7\n",
    "\n",
    "pcr_data = data.loc[[x for x in data.index if (x > pd.Timestamp(\"2022-04-03\")) & (x < pd.Timestamp(\"2022-04-11\"))]]\n",
    "pos = pcr_data.pcr.sum() / (15637 + pcr_data.pcr.sum())\n",
    "data.loc[[x for x in data.index if (x > pd.Timestamp(\"2022-04-04\")) & (x < pd.Timestamp(\"2022-04-12\"))], \"positivity_trend\"] = [pos] * 7\n",
    "\n",
    "pcr_data = data.loc[[x for x in data.index if (x > pd.Timestamp(\"2022-04-10\")) & (x < pd.Timestamp(\"2022-04-18\"))]]\n",
    "pos = pcr_data.pcr.sum() / (13090 + pcr_data.pcr.sum())\n",
    "data.loc[[x for x in data.index if (x > pd.Timestamp(\"2022-04-11\")) & (x < pd.Timestamp(\"2022-04-19\"))], \"positivity_trend\"] = [pos] * 7\n",
    "\n",
    "pcr_data = data.loc[[x for x in data.index if (x > pd.Timestamp(\"2022-04-17\")) & (x < pd.Timestamp(\"2022-04-25\"))]]\n",
    "pos = pcr_data.pcr.sum() / (11432 + pcr_data.pcr.sum())\n",
    "data.loc[[x for x in data.index if (x > pd.Timestamp(\"2022-04-18\")) & (x < pd.Timestamp(\"2022-04-26\"))], \"positivity_trend\"] = [pos] * 7\n",
    "\n",
    "data.to_csv(\"./caseData.csv\")"
   ]
  },
  {
   "cell_type": "code",
   "execution_count": 14,
   "id": "supreme-facing",
   "metadata": {},
   "outputs": [
    {
     "data": {
      "text/plain": [
       "Timestamp('2022-02-24 00:00:00')"
      ]
     },
     "execution_count": 14,
     "metadata": {},
     "output_type": "execute_result"
    }
   ],
   "source": [
    "import statsmodels.formula.api as smf\n",
    "\n",
    "data = pd.read_csv(\"./caseData.csv\", parse_dates=[\"date\"], index_col=\"date\")\n",
    "data = data.loc[[x for x in data.index if x > pd.Timestamp(\"2021-11-30\")]]\n",
    "\n",
    "data[data.new == data.new.max()].index[0] + (data[data.new == data.new.max()].index[0] - data[data.new == data.new.min()].index[0])"
   ]
  },
  {
   "cell_type": "code",
   "execution_count": null,
   "id": "configured-hearing",
   "metadata": {},
   "outputs": [],
   "source": [
    "da"
   ]
  }
 ],
 "metadata": {
  "kernelspec": {
   "display_name": "Python 3 (ipykernel)",
   "language": "python",
   "name": "python3"
  },
  "language_info": {
   "codemirror_mode": {
    "name": "ipython",
    "version": 3
   },
   "file_extension": ".py",
   "mimetype": "text/x-python",
   "name": "python",
   "nbconvert_exporter": "python",
   "pygments_lexer": "ipython3",
   "version": "3.10.4"
  }
 },
 "nbformat": 4,
 "nbformat_minor": 5
}
