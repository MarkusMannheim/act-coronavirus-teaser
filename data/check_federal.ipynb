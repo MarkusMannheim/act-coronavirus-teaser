{
 "cells": [
  {
   "cell_type": "code",
   "execution_count": 1,
   "id": "73d67624-09e4-420a-8be7-cf96b114aa1f",
   "metadata": {},
   "outputs": [
    {
     "name": "stdout",
     "output_type": "stream",
     "text": [
      "checking federal Health Department website ...\n",
      "no data available yet\n",
      "last date was Aug 10, 2021\n"
     ]
    }
   ],
   "source": [
    "# modules\n",
    "import pandas as pd\n",
    "import io, requests\n",
    "from PyPDF2 import PdfFileReader\n",
    "\n",
    "# load data, check date\n",
    "data = pd.read_csv(\"./case_data.csv\")\n",
    "data[\"date\"] = pd.to_datetime(data[\"date\"], format=\"%Y/%m/%d\")\n",
    "data.sort_values(\"date\", ascending=True, inplace=True)\n",
    "data.fillna(0, inplace=True)\n",
    "data[\"new\"] = data[\"new\"].astype(\"float\")\n",
    "data[\"total\"] = data[\"total\"].astype(\"float\")\n",
    "lastRow = len(data) - 1\n",
    "lastDate = data.at[lastRow, \"date\"]\n",
    "\n",
    "# data collected for latest date?\n",
    "if data.at[lastRow, \"first\"] > 0:\n",
    "    print(f\"federal data already collected for {lastData:%b %a, %Y}\")\n",
    "else:\n",
    "    # scrape federal data\n",
    "    print(\"checking federal Health Department website ...\")\n",
    "    url = f\"https://www.health.gov.au/sites/default/files/documents/2021/08/covid-19-vaccine-rollout-update-{lastDate:%d-%B-%Y}.pdf\".lower()\n",
    "    try:\n",
    "        request = requests.get(url)\n",
    "        file = io.BytesIO(request.content)\n",
    "        reader = PdfFileReader(file)\n",
    "        contents = reader.getPage(2).extractText().split(\"\\n\")\n",
    "        print(\"update found\")\n",
    "        first = contents[contents.index(\"dose 1\") + 2]\n",
    "        second = contents[contents.index(\"dose 2\") + 2]\n",
    "        print(f\"one-plus doses: {first}; two doses: {second}\")        \n",
    "        data.at[lastRow, \"first\"] = float(first.replace(\",\", \"\"))\n",
    "        data.at[lastRow, \"second\"] = float(second.replace(\",\", \"\"))\n",
    "        data.to_csv(\"./case_data.csv\", index=False)\n",
    "        print(\"case_data.csv written\")\n",
    "        data[\"one\"] = (data[\"first\"] - data[\"second\"]) / 344013\n",
    "        data[\"two\"] = data[\"second\"] / 344013\n",
    "        data = data[list(data.columns)[:5] + list(data.columns)[-2:]]\n",
    "        data.to_csv(\"./data.csv\", index=False)\n",
    "        print(\"data.csv written\")\n",
    "    except:\n",
    "        print(\"no data available yet\")\n",
    "        lastDate = data.at[lastRow - 1, \"date\"]\n",
    "        print(f\"last date was {lastDate:%b %d, %Y}\")"
   ]
  }
 ],
 "metadata": {
  "kernelspec": {
   "display_name": "Python 3",
   "language": "python",
   "name": "python3"
  },
  "language_info": {
   "codemirror_mode": {
    "name": "ipython",
    "version": 3
   },
   "file_extension": ".py",
   "mimetype": "text/x-python",
   "name": "python",
   "nbconvert_exporter": "python",
   "pygments_lexer": "ipython3",
   "version": "3.9.0"
  }
 },
 "nbformat": 4,
 "nbformat_minor": 5
}
